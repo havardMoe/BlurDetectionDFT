{
 "cells": [
  {
   "cell_type": "code",
   "execution_count": null,
   "metadata": {},
   "outputs": [],
   "source": [
    "import numpy as np\n",
    "import cv2\n",
    "import matplotlib.pyplot as plt\n",
    "from functions.discrete_fourier_transform import *"
   ]
  },
  {
   "cell_type": "markdown",
   "metadata": {},
   "source": [
    "# DFT 1D"
   ]
  },
  {
   "cell_type": "code",
   "execution_count": null,
   "metadata": {},
   "outputs": [],
   "source": [
    "g = np.array([1,2,3,4])\n",
    "\n",
    "G = np.fft.fft(g)\n",
    "G_custom = DFT_1D(g=g)\n",
    "\n",
    "g = np.fft.ifft(G)\n",
    "g_custom = DFTI_1D(G)\n",
    "print(f'G Frequency-domain numpy:\\n {G}')\n",
    "print(f'G Frequency-domain custom:\\n {G}')\n",
    "print(f'g Time-domain numpy:\\n {g}')\n",
    "print(f'g Time-domain custom:\\n {g_custom}')"
   ]
  },
  {
   "cell_type": "code",
   "execution_count": null,
   "metadata": {},
   "outputs": [],
   "source": [
    "flag_grey = cv2.IMREAD_GRAYSCALE\n",
    "Im = cv2.imread(\"../data/images/cameraman.png\", flags=cv2.IMREAD_GRAYSCALE)\n",
    "plt.imshow(Im, cmap=\"gray\")"
   ]
  },
  {
   "cell_type": "markdown",
   "metadata": {},
   "source": [
    "# DFT 2D"
   ]
  },
  {
   "cell_type": "code",
   "execution_count": null,
   "metadata": {},
   "outputs": [],
   "source": [
    "%timeit G = np.fft.fft2(Im)"
   ]
  },
  {
   "cell_type": "code",
   "execution_count": null,
   "metadata": {},
   "outputs": [],
   "source": [
    "%timeit G_custom_2D = DFT_2D(Im)"
   ]
  },
  {
   "cell_type": "code",
   "execution_count": null,
   "metadata": {},
   "outputs": [],
   "source": [
    "%timeit g = np.fft.ifft2(G)"
   ]
  },
  {
   "cell_type": "code",
   "execution_count": null,
   "metadata": {},
   "outputs": [],
   "source": [
    "%timeit g_custom = DFTI_2D(G)"
   ]
  },
  {
   "cell_type": "code",
   "execution_count": null,
   "metadata": {},
   "outputs": [],
   "source": [
    "plt.imshow(g_custom.real, cmap='gray')"
   ]
  }
 ],
 "metadata": {
  "kernelspec": {
   "display_name": "Python 3.10.4 ('im')",
   "language": "python",
   "name": "python3"
  },
  "language_info": {
   "codemirror_mode": {
    "name": "ipython",
    "version": 3
   },
   "file_extension": ".py",
   "mimetype": "text/x-python",
   "name": "python",
   "nbconvert_exporter": "python",
   "pygments_lexer": "ipython3",
   "version": "3.10.4"
  },
  "orig_nbformat": 4,
  "vscode": {
   "interpreter": {
    "hash": "397fec1b2c3b4424c4d64243eb193578a171b5179291a0331af1156eac3e3403"
   }
  }
 },
 "nbformat": 4,
 "nbformat_minor": 2
}
